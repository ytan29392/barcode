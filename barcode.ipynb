{
 "cells": [
  {
   "cell_type": "code",
   "execution_count": 1,
   "id": "02ca6108",
   "metadata": {},
   "outputs": [],
   "source": [
    "import os\n",
    "import json\n",
    "import barcode\n",
    "from barcode.writer import ImageWriter\n",
    "from IPython.display import Image, display\n",
    "from datetime import datetime\n",
    "\n",
    "#CONFIGURATION\n",
    "\n",
    "CATEGORY_PREFIX = \"ELEC\"       # Set category here (e.g., FOOD, CLOTH, TOOL)\n",
    "OUTPUT_DIR = \"barcodes\"        # Folder for saved barcodes\n",
    "TRACKER_FILE = \"barcode_tracker.json\"\n",
    "BARCODE_TYPE = \"code128\"\n",
    "\n",
    "#HELPER FUNCTIONS\n",
    "\n",
    "def load_tracker():\n",
    "    \"\"\"Load existing barcode tracker.\"\"\"\n",
    "    if os.path.exists(TRACKER_FILE):\n",
    "        with open(TRACKER_FILE, \"r\") as f:\n",
    "            return json.load(f)\n",
    "    return {}\n",
    "\n",
    "def save_tracker(tracker):\n",
    "    \"\"\"Save tracker to file.\"\"\"\n",
    "    with open(TRACKER_FILE, \"w\") as f:\n",
    "        json.dump(tracker, f, indent=4)\n",
    "\n",
    "def generate_unique_code(prefix, tracker):\n",
    "    \"\"\"Generate a new, unique numeric code.\"\"\"\n",
    "    existing = tracker.get(prefix, 0)\n",
    "    new_number = existing + 1\n",
    "    tracker[prefix] = new_number\n",
    "    return f\"{prefix}{new_number:05d}\"  # e.g. ELEC00001\n",
    "\n",
    "def generate_barcode(product_name, prefix=CATEGORY_PREFIX):\n",
    "    \"\"\"Generate and save a barcode for a given product name.\"\"\"\n",
    "    tracker = load_tracker()\n",
    "    os.makedirs(OUTPUT_DIR, exist_ok=True)\n",
    "    \n",
    "    unique_code = generate_unique_code(prefix, tracker)\n",
    "    code = barcode.get(BARCODE_TYPE, unique_code, writer=ImageWriter())\n",
    "    \n",
    "    safe_name = product_name.replace(\" \", \"_\")\n",
    "    filename = os.path.join(OUTPUT_DIR, f\"{safe_name}_{unique_code}\")\n",
    "    full_path = code.save(filename)\n",
    "    \n",
    "    save_tracker(tracker)\n",
    "    print(f\" Generated barcode for {product_name}: {unique_code}\")\n",
    "    \n",
    "    return unique_code, full_path\n"
   ]
  },
  {
   "cell_type": "code",
   "execution_count": 2,
   "id": "f03c9a42",
   "metadata": {},
   "outputs": [
    {
     "name": "stdout",
     "output_type": "stream",
     "text": [
      " Generated barcode for PPP: P00001\n"
     ]
    },
    {
     "data": {
      "image/png": "[encoded data removed]",
      "text/plain": [
       "<IPython.core.display.Image object>"
      ]
     },
     "metadata": {},
     "output_type": "display_data"
    }
   ],
   "source": [
    "# REQUEST BARCODE\n",
    "\n",
    "product_name = input(\"Enter the product name: \").strip()\n",
    "category = input(\"Enter category code (e.g., ELEC, FOOD, TOY): \").strip().upper() or CATEGORY_PREFIX\n",
    "\n",
    "if product_name:\n",
    "    code, path = generate_barcode(product_name, prefix=category)\n",
    "    display(Image(filename=path))\n",
    "else:\n",
    "    print(\"Product name cannot be empty.\")\n"
   ]
  }
 ],
 "metadata": {
  "kernelspec": {
   "display_name": ".venv",
   "language": "python",
   "name": "python3"
  },
  "language_info": {
   "codemirror_mode": {
    "name": "ipython",
    "version": 3
   },
   "file_extension": ".py",
   "mimetype": "text/x-python",
   "name": "python",
   "nbconvert_exporter": "python",
   "pygments_lexer": "ipython3",
   "version": "3.12.9"
  }
 },
 "nbformat": 4,
 "nbformat_minor": 5
}
