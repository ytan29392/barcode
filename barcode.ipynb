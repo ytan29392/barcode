{
 "cells": [
  {
   "cell_type": "code",
   "execution_count": 1,
   "id": "5e50239b",
   "metadata": {},
   "outputs": [],
   "source": [
    "import barcode\n",
    "from barcode.writer import ImageWriter\n",
    "from IPython.display import Image, display"
   ]
  },
  {
   "cell_type": "code",
   "execution_count": 5,
   "id": "f4b2bdb3",
   "metadata": {},
   "outputs": [
    {
     "ename": "IndexError",
     "evalue": "list index out of range",
     "output_type": "error",
     "traceback": [
      "\u001b[31m---------------------------------------------------------------------------\u001b[39m",
      "\u001b[31mIndexError\u001b[39m                                Traceback (most recent call last)",
      "\u001b[36mCell\u001b[39m\u001b[36m \u001b[39m\u001b[32mIn[5]\u001b[39m\u001b[32m, line 9\u001b[39m\n\u001b[32m      5\u001b[39m \tuser_data = \u001b[38;5;28mstr\u001b[39m(user_data)\n\u001b[32m      7\u001b[39m code = barcode.get(\u001b[33m'\u001b[39m\u001b[33mcode128\u001b[39m\u001b[33m'\u001b[39m, user_data, writer=ImageWriter())\n\u001b[32m----> \u001b[39m\u001b[32m9\u001b[39m filename = \u001b[43mcode\u001b[49m\u001b[43m.\u001b[49m\u001b[43msave\u001b[49m\u001b[43m(\u001b[49m\u001b[33;43m'\u001b[39;49m\u001b[33;43mbarcode_barcode\u001b[39;49m\u001b[33;43m'\u001b[39;49m\u001b[43m)\u001b[49m\n",
      "\u001b[36mFile \u001b[39m\u001b[32mc:\\Users\\lenovo\\Documents\\Python\\.venv\\Lib\\site-packages\\barcode\\base.py:76\u001b[39m, in \u001b[36mBarcode.save\u001b[39m\u001b[34m(self, filename, options, text)\u001b[39m\n\u001b[32m     65\u001b[39m \u001b[38;5;28;01mdef\u001b[39;00m\u001b[38;5;250m \u001b[39m\u001b[34msave\u001b[39m(\n\u001b[32m     66\u001b[39m     \u001b[38;5;28mself\u001b[39m, filename: \u001b[38;5;28mstr\u001b[39m, options: \u001b[38;5;28mdict\u001b[39m | \u001b[38;5;28;01mNone\u001b[39;00m = \u001b[38;5;28;01mNone\u001b[39;00m, text: \u001b[38;5;28mstr\u001b[39m | \u001b[38;5;28;01mNone\u001b[39;00m = \u001b[38;5;28;01mNone\u001b[39;00m\n\u001b[32m     67\u001b[39m ) -> \u001b[38;5;28mstr\u001b[39m:\n\u001b[32m     68\u001b[39m \u001b[38;5;250m    \u001b[39m\u001b[33;03m\"\"\"Renders the barcode and saves it in `filename`.\u001b[39;00m\n\u001b[32m     69\u001b[39m \n\u001b[32m     70\u001b[39m \u001b[33;03m    :param filename: Filename to save the barcode in (without filename extension).\u001b[39;00m\n\u001b[32m   (...)\u001b[39m\u001b[32m     74\u001b[39m \u001b[33;03m    :returns: The full filename with extension.\u001b[39;00m\n\u001b[32m     75\u001b[39m \u001b[33;03m    \"\"\"\u001b[39;00m\n\u001b[32m---> \u001b[39m\u001b[32m76\u001b[39m     output = \u001b[38;5;28mself\u001b[39m.render(options, text) \u001b[38;5;28;01mif\u001b[39;00m text \u001b[38;5;28;01melse\u001b[39;00m \u001b[38;5;28;43mself\u001b[39;49m\u001b[43m.\u001b[49m\u001b[43mrender\u001b[49m\u001b[43m(\u001b[49m\u001b[43moptions\u001b[49m\u001b[43m)\u001b[49m\n\u001b[32m     78\u001b[39m     \u001b[38;5;28;01mreturn\u001b[39;00m \u001b[38;5;28mself\u001b[39m.writer.save(filename, output)\n",
      "\u001b[36mFile \u001b[39m\u001b[32mc:\\Users\\lenovo\\Documents\\Python\\.venv\\Lib\\site-packages\\barcode\\codex.py:282\u001b[39m, in \u001b[36mCode128.render\u001b[39m\u001b[34m(self, writer_options, text)\u001b[39m\n\u001b[32m    280\u001b[39m options = {\u001b[33m\"\u001b[39m\u001b[33mmodule_width\u001b[39m\u001b[33m\"\u001b[39m: MIN_SIZE, \u001b[33m\"\u001b[39m\u001b[33mquiet_zone\u001b[39m\u001b[33m\"\u001b[39m: MIN_QUIET_ZONE}\n\u001b[32m    281\u001b[39m options.update(writer_options \u001b[38;5;129;01mor\u001b[39;00m {})\n\u001b[32m--> \u001b[39m\u001b[32m282\u001b[39m \u001b[38;5;28;01mreturn\u001b[39;00m \u001b[38;5;28;43msuper\u001b[39;49m\u001b[43m(\u001b[49m\u001b[43m)\u001b[49m\u001b[43m.\u001b[49m\u001b[43mrender\u001b[49m\u001b[43m(\u001b[49m\u001b[43moptions\u001b[49m\u001b[43m,\u001b[49m\u001b[43m \u001b[49m\u001b[43mtext\u001b[49m\u001b[43m)\u001b[49m\n",
      "\u001b[36mFile \u001b[39m\u001b[32mc:\\Users\\lenovo\\Documents\\Python\\.venv\\Lib\\site-packages\\barcode\\base.py:112\u001b[39m, in \u001b[36mBarcode.render\u001b[39m\u001b[34m(self, writer_options, text)\u001b[39m\n\u001b[32m    110\u001b[39m         options[\u001b[33m\"\u001b[39m\u001b[33mtext\u001b[39m\u001b[33m\"\u001b[39m] = \u001b[38;5;28mself\u001b[39m.get_fullcode()\n\u001b[32m    111\u001b[39m \u001b[38;5;28mself\u001b[39m.writer.set_options(options)\n\u001b[32m--> \u001b[39m\u001b[32m112\u001b[39m code_list = \u001b[38;5;28;43mself\u001b[39;49m\u001b[43m.\u001b[49m\u001b[43mbuild\u001b[49m\u001b[43m(\u001b[49m\u001b[43m)\u001b[49m\n\u001b[32m    113\u001b[39m \u001b[38;5;28;01mif\u001b[39;00m \u001b[38;5;129;01mnot\u001b[39;00m \u001b[38;5;28mlen\u001b[39m(code_list) == \u001b[32m1\u001b[39m:\n\u001b[32m    114\u001b[39m     \u001b[38;5;28;01mraise\u001b[39;00m \u001b[38;5;167;01mRuntimeError\u001b[39;00m(\u001b[33m\"\u001b[39m\u001b[33mCode list must contain a single element.\u001b[39m\u001b[33m\"\u001b[39m)\n",
      "\u001b[36mFile \u001b[39m\u001b[32mc:\\Users\\lenovo\\Documents\\Python\\.venv\\Lib\\site-packages\\barcode\\codex.py:270\u001b[39m, in \u001b[36mCode128.build\u001b[39m\u001b[34m(self)\u001b[39m\n\u001b[32m    269\u001b[39m \u001b[38;5;28;01mdef\u001b[39;00m\u001b[38;5;250m \u001b[39m\u001b[34mbuild\u001b[39m(\u001b[38;5;28mself\u001b[39m) -> \u001b[38;5;28mlist\u001b[39m[\u001b[38;5;28mstr\u001b[39m]:\n\u001b[32m--> \u001b[39m\u001b[32m270\u001b[39m     encoded = \u001b[38;5;28;43mself\u001b[39;49m\u001b[43m.\u001b[49m\u001b[43m_build\u001b[49m\u001b[43m(\u001b[49m\u001b[43m)\u001b[49m\n\u001b[32m    271\u001b[39m     encoded.append(\u001b[38;5;28mself\u001b[39m._calculate_checksum(encoded))\n\u001b[32m    272\u001b[39m     code = \u001b[33m\"\u001b[39m\u001b[33m\"\u001b[39m\n",
      "\u001b[36mFile \u001b[39m\u001b[32mc:\\Users\\lenovo\\Documents\\Python\\.venv\\Lib\\site-packages\\barcode\\codex.py:267\u001b[39m, in \u001b[36mCode128._build\u001b[39m\u001b[34m(self)\u001b[39m\n\u001b[32m    265\u001b[39m     encoded.append(\u001b[38;5;28mself\u001b[39m._convert(\u001b[38;5;28mself\u001b[39m._buffer[\u001b[32m0\u001b[39m]))\n\u001b[32m    266\u001b[39m     \u001b[38;5;28mself\u001b[39m._buffer = \u001b[33m\"\u001b[39m\u001b[33m\"\u001b[39m\n\u001b[32m--> \u001b[39m\u001b[32m267\u001b[39m \u001b[38;5;28;01mreturn\u001b[39;00m \u001b[38;5;28;43mself\u001b[39;49m\u001b[43m.\u001b[49m\u001b[43m_try_to_optimize\u001b[49m\u001b[43m(\u001b[49m\u001b[43mencoded\u001b[49m\u001b[43m)\u001b[49m\n",
      "\u001b[36mFile \u001b[39m\u001b[32mc:\\Users\\lenovo\\Documents\\Python\\.venv\\Lib\\site-packages\\barcode\\codex.py:245\u001b[39m, in \u001b[36mCode128._try_to_optimize\u001b[39m\u001b[34m(self, encoded)\u001b[39m\n\u001b[32m    244\u001b[39m \u001b[38;5;28;01mdef\u001b[39;00m\u001b[38;5;250m \u001b[39m\u001b[34m_try_to_optimize\u001b[39m(\u001b[38;5;28mself\u001b[39m, encoded: \u001b[38;5;28mlist\u001b[39m[\u001b[38;5;28mint\u001b[39m]) -> \u001b[38;5;28mlist\u001b[39m[\u001b[38;5;28mint\u001b[39m]:\n\u001b[32m--> \u001b[39m\u001b[32m245\u001b[39m     \u001b[38;5;28;01mif\u001b[39;00m \u001b[43mencoded\u001b[49m\u001b[43m[\u001b[49m\u001b[32;43m1\u001b[39;49m\u001b[43m]\u001b[49m \u001b[38;5;129;01min\u001b[39;00m code128.TO:\n\u001b[32m    246\u001b[39m         encoded[:\u001b[32m2\u001b[39m] = [code128.TO[encoded[\u001b[32m1\u001b[39m]]]\n\u001b[32m    247\u001b[39m     \u001b[38;5;28;01mreturn\u001b[39;00m encoded\n",
      "\u001b[31mIndexError\u001b[39m: list index out of range"
     ]
    }
   ],
   "source": [
    "user_data = input(\"Enter the data for the barcode: \")\n",
    "\n",
    "# barcode.get expects a string (iterable of characters). Convert ints to str to avoid TypeError.\n",
    "if not isinstance(user_data, str):\n",
    "\tuser_data = str(user_data)\n",
    "\n",
    "code = barcode.get('code128', user_data, writer=ImageWriter())\n",
    "\n",
    "filename = code.save('barcode_barcode')"
   ]
  },
  {
   "cell_type": "code",
   "execution_count": 4,
   "id": "8783abc5",
   "metadata": {},
   "outputs": [
    {
     "data": {
      "image/png": "[encoded data removed]",
      "text/plain": [
       "<IPython.core.display.Image object>"
      ]
     },
     "metadata": {},
     "output_type": "display_data"
    }
   ],
   "source": [
    "display(Image(filename=filename))"
   ]
  },
  {
   "cell_type": "code",
   "execution_count": 6,
   "id": "fa026567",
   "metadata": {},
   "outputs": [
    {
     "ename": "ModuleNotFoundError",
     "evalue": "No module named 'ipywidgets'",
     "output_type": "error",
     "traceback": [
      "\u001b[31m---------------------------------------------------------------------------\u001b[39m",
      "\u001b[31mModuleNotFoundError\u001b[39m                       Traceback (most recent call last)",
      "\u001b[36mCell\u001b[39m\u001b[36m \u001b[39m\u001b[32mIn[6]\u001b[39m\u001b[32m, line 1\u001b[39m\n\u001b[32m----> \u001b[39m\u001b[32m1\u001b[39m \u001b[38;5;28;01mimport\u001b[39;00m\u001b[38;5;250m \u001b[39m\u001b[34;01mipywidgets\u001b[39;00m\u001b[38;5;250m \u001b[39m\u001b[38;5;28;01mas\u001b[39;00m\u001b[38;5;250m \u001b[39m\u001b[34;01mwidgets\u001b[39;00m\n\u001b[32m      2\u001b[39m \u001b[38;5;28;01mfrom\u001b[39;00m\u001b[38;5;250m \u001b[39m\u001b[34;01mIPython\u001b[39;00m\u001b[34;01m.\u001b[39;00m\u001b[34;01mdisplay\u001b[39;00m\u001b[38;5;250m \u001b[39m\u001b[38;5;28;01mimport\u001b[39;00m display\n\u001b[32m      3\u001b[39m \u001b[38;5;28;01mimport\u001b[39;00m\u001b[38;5;250m \u001b[39m\u001b[34;01mbarcode\u001b[39;00m\n",
      "\u001b[31mModuleNotFoundError\u001b[39m: No module named 'ipywidgets'"
     ]
    }
   ],
   "source": [
    "import ipywidgets as widgets\n",
    "from IPython.display import display\n",
    "import barcode\n",
    "from barcode.writer import ImageWriter\n",
    "\n",
    "text_box = widgets.Text(\n",
    "    value='',\n",
    "    placeholder='Enter barcode data',\n",
    "    description='Data:',\n",
    "    disabled=False\n",
    ")\n",
    "display(text_box)\n",
    "\n",
    "def generate_barcode(change):\n",
    "    user_data = text_box.value\n",
    "    code = barcode.get('code128', user_data, writer=ImageWriter())\n",
    "    filename = code.save('barcode_barcode')\n",
    "    display(Image(filename=filename))\n",
    "\n",
    "text_box.observe(generate_barcode, names='value')\n"
   ]
  },
  {
   "cell_type": "code",
   "execution_count": null,
   "id": "c4510a5d",
   "metadata": {},
   "outputs": [],
   "source": [
    "import barcode\n",
    "from barcode.writer import ImageWriter\n",
    "from IPython.display import Image, display\n",
    "\n",
    "user_data = input(\"Enter the data for the barcode: \").strip()\n",
    "\n",
    "# Make sure it's not empty\n",
    "if not user_data:\n",
    "    print(\"⚠️ You must enter some data for the barcode!\")\n",
    "else:\n",
    "    code = barcode.get('code128', user_data, writer=ImageWriter())\n",
    "    filename = code.save('barcode_barcode')\n",
    "    display(Image(filename=filename))\n"
   ]
  }
 ],
 "metadata": {
  "kernelspec": {
   "display_name": ".venv",
   "language": "python",
   "name": "python3"
  },
  "language_info": {
   "codemirror_mode": {
    "name": "ipython",
    "version": 3
   },
   "file_extension": ".py",
   "mimetype": "text/x-python",
   "name": "python",
   "nbconvert_exporter": "python",
   "pygments_lexer": "ipython3",
   "version": "3.12.9"
  }
 },
 "nbformat": 4,
 "nbformat_minor": 5
}
